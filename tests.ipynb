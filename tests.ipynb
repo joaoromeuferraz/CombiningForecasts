{
 "cells": [
  {
   "cell_type": "code",
   "execution_count": 1,
   "outputs": [],
   "source": [
    "from predictor import *\n",
    "import pandas as pd\n",
    "import numpy as np\n",
    "import matplotlib.pyplot as plt\n",
    "import pickle\n",
    "\n",
    "%matplotlib inline\n",
    "%load_ext autoreload\n",
    "%autoreload 2"
   ],
   "metadata": {
    "collapsed": false,
    "pycharm": {
     "name": "#%%\n"
    }
   }
  },
  {
   "cell_type": "code",
   "execution_count": 2,
   "outputs": [],
   "source": [
    "train_models = True"
   ],
   "metadata": {
    "collapsed": false,
    "pycharm": {
     "name": "#%%\n"
    }
   }
  },
  {
   "cell_type": "code",
   "execution_count": 3,
   "outputs": [],
   "source": [
    "variable_names = [\"NGDP\", \"RGDP\"]\n",
    "forecast_horizons = [0, 1, 2, 3, 4]\n",
    "alphas = [4, 10, 20, 50, 100]\n",
    "\n",
    "if train_models:\n",
    "    models = {\n",
    "        \"Average\": AverageForecasts(variable_names, forecast_horizons).fit(),\n",
    "        \"Median\": MedianForecasts(variable_names, forecast_horizons).fit(),\n",
    "        \"Geometric\": GeomAverageForecasts(variable_names, forecast_horizons).fit(),\n",
    "        \"Harmonic\": HarmAverageForecasts(variable_names, forecast_horizons).fit(),\n",
    "        \"AvgMedian\": AverageMedianForecasts(variable_names, forecast_horizons).fit(),\n",
    "        \"Normal\": NormalIndependent(variable_names, forecast_horizons).fit(),\n",
    "        \"OL\": OnlineLearning(variable_names, forecast_horizons, alpha=0.8).fit()\n",
    "    }\n",
    "\n",
    "    for alpha in alphas:\n",
    "        models[f\"Bayesian_{alpha}\"] = BayesianModels(variable_names, forecast_horizons, alpha=alpha).fit()\n",
    "\n",
    "    pickle.dump(models, open(\"data/models.p\", \"wb\"))\n",
    "else:\n",
    "    models = pickle.load(open(\"data/models.p\", \"rb\"))"
   ],
   "metadata": {
    "collapsed": false,
    "pycharm": {
     "name": "#%%\n"
    }
   }
  },
  {
   "cell_type": "code",
   "execution_count": 4,
   "outputs": [],
   "source": [
    "metric_names = [\"mse\", \"mad\"]\n",
    "start = \"1979Q1\"\n",
    "# start = \"2000Q1\"\n",
    "end = \"2021Q3\"\n",
    "# end = \"2019Q3\"\n",
    "\n",
    "metrics = {k: {metric_names[i]: z for i, z in enumerate(v.calculate_metrics(start, end))} for k, v in models.items()}"
   ],
   "metadata": {
    "collapsed": false,
    "pycharm": {
     "name": "#%%\n"
    }
   }
  },
  {
   "cell_type": "code",
   "execution_count": 5,
   "outputs": [],
   "source": [
    "def get_metrics_dfs(metrics, models):\n",
    "    mse_ngdp = pd.concat([metrics[k][\"mse\"][\"NGDP\"] for k in models.keys()], axis=1, keys=models.keys())\n",
    "    mse_rgdp = pd.concat([metrics[k][\"mse\"][\"RGDP\"] for k in models.keys()], axis=1, keys=models.keys())\n",
    "    mad_ngdp = pd.concat([metrics[k][\"mad\"][\"NGDP\"] for k in models.keys()], axis=1, keys=models.keys())\n",
    "    mad_rgdp = pd.concat([metrics[k][\"mad\"][\"RGDP\"] for k in models.keys()], axis=1, keys=models.keys())\n",
    "    ngdp_metrics = pd.concat((mse_ngdp, mad_ngdp), axis=1, keys=[\"MSE\", \"MAD\"]).round(2)\n",
    "    rgdp_metrics = pd.concat((mse_rgdp, mad_rgdp), axis=1, keys=[\"MSE\", \"MAD\"]).round(2)\n",
    "    return ngdp_metrics, rgdp_metrics"
   ],
   "metadata": {
    "collapsed": false,
    "pycharm": {
     "name": "#%%\n"
    }
   }
  },
  {
   "cell_type": "code",
   "execution_count": 6,
   "outputs": [
    {
     "data": {
      "text/plain": "          MSE                                                                  \\\n      Average  Median Geometric Harmonic AvgMedian  Normal      OL Bayesian_4   \nNGDP2   99.74   98.62     99.75    99.77     99.13   98.60   97.15      97.09   \nNGDP3  262.85  260.91    263.16   263.47    261.82  260.21  266.61     260.53   \nNGDP4  306.70  305.97    307.08   307.47    306.27  307.67  302.96     306.76   \nNGDP5  362.33  360.34    362.81   363.31    361.26  359.80  352.51     360.33   \nNGDP6  415.07  414.71    415.63   416.21    414.80  412.45  406.77     415.34   \n\n                               ...       MAD                             \\\n      Bayesian_10 Bayesian_20  ... Geometric Harmonic AvgMedian  Normal   \nNGDP2       95.89       94.90  ...     50.59    50.58     50.57   50.24   \nNGDP3      261.19      261.89  ...    105.08   105.21    104.61  103.66   \nNGDP4      306.76      306.76  ...    147.58   147.68    147.70  150.40   \nNGDP5      360.13      360.01  ...    195.00   195.15    195.30  195.26   \nNGDP6      415.28      415.16  ...    241.38   241.55    242.11  237.14   \n\n                                                                           \n           OL Bayesian_4 Bayesian_10 Bayesian_20 Bayesian_50 Bayesian_100  \nNGDP2   49.34      49.98       49.82       49.71       49.59        49.54  \nNGDP3  106.34     104.29      104.61      104.87      105.19       105.37  \nNGDP4  145.90     149.90      149.98      150.01      150.02       150.01  \nNGDP5  191.45     195.71      195.46      195.27      195.10       195.04  \nNGDP6  238.08     241.34      241.04      240.68      240.23       239.99  \n\n[5 rows x 24 columns]",
      "text/html": "<div>\n<style scoped>\n    .dataframe tbody tr th:only-of-type {\n        vertical-align: middle;\n    }\n\n    .dataframe tbody tr th {\n        vertical-align: top;\n    }\n\n    .dataframe thead tr th {\n        text-align: left;\n    }\n</style>\n<table border=\"1\" class=\"dataframe\">\n  <thead>\n    <tr>\n      <th></th>\n      <th colspan=\"10\" halign=\"left\">MSE</th>\n      <th>...</th>\n      <th colspan=\"10\" halign=\"left\">MAD</th>\n    </tr>\n    <tr>\n      <th></th>\n      <th>Average</th>\n      <th>Median</th>\n      <th>Geometric</th>\n      <th>Harmonic</th>\n      <th>AvgMedian</th>\n      <th>Normal</th>\n      <th>OL</th>\n      <th>Bayesian_4</th>\n      <th>Bayesian_10</th>\n      <th>Bayesian_20</th>\n      <th>...</th>\n      <th>Geometric</th>\n      <th>Harmonic</th>\n      <th>AvgMedian</th>\n      <th>Normal</th>\n      <th>OL</th>\n      <th>Bayesian_4</th>\n      <th>Bayesian_10</th>\n      <th>Bayesian_20</th>\n      <th>Bayesian_50</th>\n      <th>Bayesian_100</th>\n    </tr>\n  </thead>\n  <tbody>\n    <tr>\n      <th>NGDP2</th>\n      <td>99.74</td>\n      <td>98.62</td>\n      <td>99.75</td>\n      <td>99.77</td>\n      <td>99.13</td>\n      <td>98.60</td>\n      <td>97.15</td>\n      <td>97.09</td>\n      <td>95.89</td>\n      <td>94.90</td>\n      <td>...</td>\n      <td>50.59</td>\n      <td>50.58</td>\n      <td>50.57</td>\n      <td>50.24</td>\n      <td>49.34</td>\n      <td>49.98</td>\n      <td>49.82</td>\n      <td>49.71</td>\n      <td>49.59</td>\n      <td>49.54</td>\n    </tr>\n    <tr>\n      <th>NGDP3</th>\n      <td>262.85</td>\n      <td>260.91</td>\n      <td>263.16</td>\n      <td>263.47</td>\n      <td>261.82</td>\n      <td>260.21</td>\n      <td>266.61</td>\n      <td>260.53</td>\n      <td>261.19</td>\n      <td>261.89</td>\n      <td>...</td>\n      <td>105.08</td>\n      <td>105.21</td>\n      <td>104.61</td>\n      <td>103.66</td>\n      <td>106.34</td>\n      <td>104.29</td>\n      <td>104.61</td>\n      <td>104.87</td>\n      <td>105.19</td>\n      <td>105.37</td>\n    </tr>\n    <tr>\n      <th>NGDP4</th>\n      <td>306.70</td>\n      <td>305.97</td>\n      <td>307.08</td>\n      <td>307.47</td>\n      <td>306.27</td>\n      <td>307.67</td>\n      <td>302.96</td>\n      <td>306.76</td>\n      <td>306.76</td>\n      <td>306.76</td>\n      <td>...</td>\n      <td>147.58</td>\n      <td>147.68</td>\n      <td>147.70</td>\n      <td>150.40</td>\n      <td>145.90</td>\n      <td>149.90</td>\n      <td>149.98</td>\n      <td>150.01</td>\n      <td>150.02</td>\n      <td>150.01</td>\n    </tr>\n    <tr>\n      <th>NGDP5</th>\n      <td>362.33</td>\n      <td>360.34</td>\n      <td>362.81</td>\n      <td>363.31</td>\n      <td>361.26</td>\n      <td>359.80</td>\n      <td>352.51</td>\n      <td>360.33</td>\n      <td>360.13</td>\n      <td>360.01</td>\n      <td>...</td>\n      <td>195.00</td>\n      <td>195.15</td>\n      <td>195.30</td>\n      <td>195.26</td>\n      <td>191.45</td>\n      <td>195.71</td>\n      <td>195.46</td>\n      <td>195.27</td>\n      <td>195.10</td>\n      <td>195.04</td>\n    </tr>\n    <tr>\n      <th>NGDP6</th>\n      <td>415.07</td>\n      <td>414.71</td>\n      <td>415.63</td>\n      <td>416.21</td>\n      <td>414.80</td>\n      <td>412.45</td>\n      <td>406.77</td>\n      <td>415.34</td>\n      <td>415.28</td>\n      <td>415.16</td>\n      <td>...</td>\n      <td>241.38</td>\n      <td>241.55</td>\n      <td>242.11</td>\n      <td>237.14</td>\n      <td>238.08</td>\n      <td>241.34</td>\n      <td>241.04</td>\n      <td>240.68</td>\n      <td>240.23</td>\n      <td>239.99</td>\n    </tr>\n  </tbody>\n</table>\n<p>5 rows × 24 columns</p>\n</div>"
     },
     "execution_count": 6,
     "metadata": {},
     "output_type": "execute_result"
    }
   ],
   "source": [
    "ngdp_metrics, rgdp_metrics = get_metrics_dfs(metrics, models)\n",
    "ngdp_metrics"
   ],
   "metadata": {
    "collapsed": false,
    "pycharm": {
     "name": "#%%\n"
    }
   }
  },
  {
   "cell_type": "code",
   "execution_count": 7,
   "outputs": [
    {
     "data": {
      "text/plain": "          MSE                                                                  \\\n      Average  Median Geometric Harmonic AvgMedian  Normal      OL Bayesian_4   \nRGDP2  295.38  295.77    295.40   295.41    295.57  295.69  295.87     295.72   \nRGDP3  458.47  459.56    458.58   458.70    459.01  458.57  458.71     461.06   \nRGDP4  554.82  555.39    554.96   555.10    555.09  553.26  556.77     553.94   \nRGDP5  638.51  639.28    638.69   638.87    638.87  637.86  642.34     638.92   \nRGDP6  706.56  706.74    706.77   706.98    706.63  708.63  710.67     709.41   \n\n                               ...       MAD                             \\\n      Bayesian_10 Bayesian_20  ... Geometric Harmonic AvgMedian  Normal   \nRGDP2      295.57      295.44  ...     96.12    96.09     96.04   96.85   \nRGDP3      462.26      462.87  ...    193.24   193.29    193.82  193.51   \nRGDP4      553.93      554.00  ...    274.21   274.28    274.86  274.42   \nRGDP5      638.64      638.39  ...    360.49   360.60    360.84  361.18   \nRGDP6      709.38      709.34  ...    439.16   439.26    439.03  442.87   \n\n                                                                           \n           OL Bayesian_4 Bayesian_10 Bayesian_20 Bayesian_50 Bayesian_100  \nRGDP2   95.62      96.65       96.49       96.40       96.36        96.34  \nRGDP3  194.04     195.11      195.55      195.72      195.80       195.81  \nRGDP4  275.67     274.23      274.48      274.74      275.07       275.26  \nRGDP5  363.22     361.46      361.43      361.41      361.41       361.41  \nRGDP6  441.93     443.58      443.70      443.81      443.90       443.93  \n\n[5 rows x 24 columns]",
      "text/html": "<div>\n<style scoped>\n    .dataframe tbody tr th:only-of-type {\n        vertical-align: middle;\n    }\n\n    .dataframe tbody tr th {\n        vertical-align: top;\n    }\n\n    .dataframe thead tr th {\n        text-align: left;\n    }\n</style>\n<table border=\"1\" class=\"dataframe\">\n  <thead>\n    <tr>\n      <th></th>\n      <th colspan=\"10\" halign=\"left\">MSE</th>\n      <th>...</th>\n      <th colspan=\"10\" halign=\"left\">MAD</th>\n    </tr>\n    <tr>\n      <th></th>\n      <th>Average</th>\n      <th>Median</th>\n      <th>Geometric</th>\n      <th>Harmonic</th>\n      <th>AvgMedian</th>\n      <th>Normal</th>\n      <th>OL</th>\n      <th>Bayesian_4</th>\n      <th>Bayesian_10</th>\n      <th>Bayesian_20</th>\n      <th>...</th>\n      <th>Geometric</th>\n      <th>Harmonic</th>\n      <th>AvgMedian</th>\n      <th>Normal</th>\n      <th>OL</th>\n      <th>Bayesian_4</th>\n      <th>Bayesian_10</th>\n      <th>Bayesian_20</th>\n      <th>Bayesian_50</th>\n      <th>Bayesian_100</th>\n    </tr>\n  </thead>\n  <tbody>\n    <tr>\n      <th>RGDP2</th>\n      <td>295.38</td>\n      <td>295.77</td>\n      <td>295.40</td>\n      <td>295.41</td>\n      <td>295.57</td>\n      <td>295.69</td>\n      <td>295.87</td>\n      <td>295.72</td>\n      <td>295.57</td>\n      <td>295.44</td>\n      <td>...</td>\n      <td>96.12</td>\n      <td>96.09</td>\n      <td>96.04</td>\n      <td>96.85</td>\n      <td>95.62</td>\n      <td>96.65</td>\n      <td>96.49</td>\n      <td>96.40</td>\n      <td>96.36</td>\n      <td>96.34</td>\n    </tr>\n    <tr>\n      <th>RGDP3</th>\n      <td>458.47</td>\n      <td>459.56</td>\n      <td>458.58</td>\n      <td>458.70</td>\n      <td>459.01</td>\n      <td>458.57</td>\n      <td>458.71</td>\n      <td>461.06</td>\n      <td>462.26</td>\n      <td>462.87</td>\n      <td>...</td>\n      <td>193.24</td>\n      <td>193.29</td>\n      <td>193.82</td>\n      <td>193.51</td>\n      <td>194.04</td>\n      <td>195.11</td>\n      <td>195.55</td>\n      <td>195.72</td>\n      <td>195.80</td>\n      <td>195.81</td>\n    </tr>\n    <tr>\n      <th>RGDP4</th>\n      <td>554.82</td>\n      <td>555.39</td>\n      <td>554.96</td>\n      <td>555.10</td>\n      <td>555.09</td>\n      <td>553.26</td>\n      <td>556.77</td>\n      <td>553.94</td>\n      <td>553.93</td>\n      <td>554.00</td>\n      <td>...</td>\n      <td>274.21</td>\n      <td>274.28</td>\n      <td>274.86</td>\n      <td>274.42</td>\n      <td>275.67</td>\n      <td>274.23</td>\n      <td>274.48</td>\n      <td>274.74</td>\n      <td>275.07</td>\n      <td>275.26</td>\n    </tr>\n    <tr>\n      <th>RGDP5</th>\n      <td>638.51</td>\n      <td>639.28</td>\n      <td>638.69</td>\n      <td>638.87</td>\n      <td>638.87</td>\n      <td>637.86</td>\n      <td>642.34</td>\n      <td>638.92</td>\n      <td>638.64</td>\n      <td>638.39</td>\n      <td>...</td>\n      <td>360.49</td>\n      <td>360.60</td>\n      <td>360.84</td>\n      <td>361.18</td>\n      <td>363.22</td>\n      <td>361.46</td>\n      <td>361.43</td>\n      <td>361.41</td>\n      <td>361.41</td>\n      <td>361.41</td>\n    </tr>\n    <tr>\n      <th>RGDP6</th>\n      <td>706.56</td>\n      <td>706.74</td>\n      <td>706.77</td>\n      <td>706.98</td>\n      <td>706.63</td>\n      <td>708.63</td>\n      <td>710.67</td>\n      <td>709.41</td>\n      <td>709.38</td>\n      <td>709.34</td>\n      <td>...</td>\n      <td>439.16</td>\n      <td>439.26</td>\n      <td>439.03</td>\n      <td>442.87</td>\n      <td>441.93</td>\n      <td>443.58</td>\n      <td>443.70</td>\n      <td>443.81</td>\n      <td>443.90</td>\n      <td>443.93</td>\n    </tr>\n  </tbody>\n</table>\n<p>5 rows × 24 columns</p>\n</div>"
     },
     "execution_count": 7,
     "metadata": {},
     "output_type": "execute_result"
    }
   ],
   "source": [
    "rgdp_metrics"
   ],
   "metadata": {
    "collapsed": false,
    "pycharm": {
     "name": "#%%\n"
    }
   }
  },
  {
   "cell_type": "code",
   "execution_count": 8,
   "outputs": [
    {
     "data": {
      "text/plain": "                MSE     MAD\nNGDP2  Bayesian_100      OL\nNGDP3        Normal  Normal\nNGDP4            OL      OL\nNGDP5            OL      OL\nNGDP6            OL  Normal",
      "text/html": "<div>\n<style scoped>\n    .dataframe tbody tr th:only-of-type {\n        vertical-align: middle;\n    }\n\n    .dataframe tbody tr th {\n        vertical-align: top;\n    }\n\n    .dataframe thead th {\n        text-align: right;\n    }\n</style>\n<table border=\"1\" class=\"dataframe\">\n  <thead>\n    <tr style=\"text-align: right;\">\n      <th></th>\n      <th>MSE</th>\n      <th>MAD</th>\n    </tr>\n  </thead>\n  <tbody>\n    <tr>\n      <th>NGDP2</th>\n      <td>Bayesian_100</td>\n      <td>OL</td>\n    </tr>\n    <tr>\n      <th>NGDP3</th>\n      <td>Normal</td>\n      <td>Normal</td>\n    </tr>\n    <tr>\n      <th>NGDP4</th>\n      <td>OL</td>\n      <td>OL</td>\n    </tr>\n    <tr>\n      <th>NGDP5</th>\n      <td>OL</td>\n      <td>OL</td>\n    </tr>\n    <tr>\n      <th>NGDP6</th>\n      <td>OL</td>\n      <td>Normal</td>\n    </tr>\n  </tbody>\n</table>\n</div>"
     },
     "execution_count": 8,
     "metadata": {},
     "output_type": "execute_result"
    }
   ],
   "source": [
    "pd.concat((ngdp_metrics[\"MSE\"].idxmin(axis=1), ngdp_metrics[\"MAD\"].idxmin(axis=1)), axis=1, keys=[\"MSE\", \"MAD\"])"
   ],
   "metadata": {
    "collapsed": false,
    "pycharm": {
     "name": "#%%\n"
    }
   }
  },
  {
   "cell_type": "code",
   "execution_count": 9,
   "outputs": [
    {
     "data": {
      "text/plain": "          MSE                                                                  \\\n      Average  Median Geometric Harmonic AvgMedian  Normal      OL Bayesian_4   \nRGDP2  295.38  295.77    295.40   295.41    295.57  295.69  295.87     295.72   \nRGDP3  458.47  459.56    458.58   458.70    459.01  458.57  458.71     461.06   \nRGDP4  554.82  555.39    554.96   555.10    555.09  553.26  556.77     553.94   \nRGDP5  638.51  639.28    638.69   638.87    638.87  637.86  642.34     638.92   \nRGDP6  706.56  706.74    706.77   706.98    706.63  708.63  710.67     709.41   \n\n                               ...       MAD                             \\\n      Bayesian_10 Bayesian_20  ... Geometric Harmonic AvgMedian  Normal   \nRGDP2      295.57      295.44  ...     96.12    96.09     96.04   96.85   \nRGDP3      462.26      462.87  ...    193.24   193.29    193.82  193.51   \nRGDP4      553.93      554.00  ...    274.21   274.28    274.86  274.42   \nRGDP5      638.64      638.39  ...    360.49   360.60    360.84  361.18   \nRGDP6      709.38      709.34  ...    439.16   439.26    439.03  442.87   \n\n                                                                           \n           OL Bayesian_4 Bayesian_10 Bayesian_20 Bayesian_50 Bayesian_100  \nRGDP2   95.62      96.65       96.49       96.40       96.36        96.34  \nRGDP3  194.04     195.11      195.55      195.72      195.80       195.81  \nRGDP4  275.67     274.23      274.48      274.74      275.07       275.26  \nRGDP5  363.22     361.46      361.43      361.41      361.41       361.41  \nRGDP6  441.93     443.58      443.70      443.81      443.90       443.93  \n\n[5 rows x 24 columns]",
      "text/html": "<div>\n<style scoped>\n    .dataframe tbody tr th:only-of-type {\n        vertical-align: middle;\n    }\n\n    .dataframe tbody tr th {\n        vertical-align: top;\n    }\n\n    .dataframe thead tr th {\n        text-align: left;\n    }\n</style>\n<table border=\"1\" class=\"dataframe\">\n  <thead>\n    <tr>\n      <th></th>\n      <th colspan=\"10\" halign=\"left\">MSE</th>\n      <th>...</th>\n      <th colspan=\"10\" halign=\"left\">MAD</th>\n    </tr>\n    <tr>\n      <th></th>\n      <th>Average</th>\n      <th>Median</th>\n      <th>Geometric</th>\n      <th>Harmonic</th>\n      <th>AvgMedian</th>\n      <th>Normal</th>\n      <th>OL</th>\n      <th>Bayesian_4</th>\n      <th>Bayesian_10</th>\n      <th>Bayesian_20</th>\n      <th>...</th>\n      <th>Geometric</th>\n      <th>Harmonic</th>\n      <th>AvgMedian</th>\n      <th>Normal</th>\n      <th>OL</th>\n      <th>Bayesian_4</th>\n      <th>Bayesian_10</th>\n      <th>Bayesian_20</th>\n      <th>Bayesian_50</th>\n      <th>Bayesian_100</th>\n    </tr>\n  </thead>\n  <tbody>\n    <tr>\n      <th>RGDP2</th>\n      <td>295.38</td>\n      <td>295.77</td>\n      <td>295.40</td>\n      <td>295.41</td>\n      <td>295.57</td>\n      <td>295.69</td>\n      <td>295.87</td>\n      <td>295.72</td>\n      <td>295.57</td>\n      <td>295.44</td>\n      <td>...</td>\n      <td>96.12</td>\n      <td>96.09</td>\n      <td>96.04</td>\n      <td>96.85</td>\n      <td>95.62</td>\n      <td>96.65</td>\n      <td>96.49</td>\n      <td>96.40</td>\n      <td>96.36</td>\n      <td>96.34</td>\n    </tr>\n    <tr>\n      <th>RGDP3</th>\n      <td>458.47</td>\n      <td>459.56</td>\n      <td>458.58</td>\n      <td>458.70</td>\n      <td>459.01</td>\n      <td>458.57</td>\n      <td>458.71</td>\n      <td>461.06</td>\n      <td>462.26</td>\n      <td>462.87</td>\n      <td>...</td>\n      <td>193.24</td>\n      <td>193.29</td>\n      <td>193.82</td>\n      <td>193.51</td>\n      <td>194.04</td>\n      <td>195.11</td>\n      <td>195.55</td>\n      <td>195.72</td>\n      <td>195.80</td>\n      <td>195.81</td>\n    </tr>\n    <tr>\n      <th>RGDP4</th>\n      <td>554.82</td>\n      <td>555.39</td>\n      <td>554.96</td>\n      <td>555.10</td>\n      <td>555.09</td>\n      <td>553.26</td>\n      <td>556.77</td>\n      <td>553.94</td>\n      <td>553.93</td>\n      <td>554.00</td>\n      <td>...</td>\n      <td>274.21</td>\n      <td>274.28</td>\n      <td>274.86</td>\n      <td>274.42</td>\n      <td>275.67</td>\n      <td>274.23</td>\n      <td>274.48</td>\n      <td>274.74</td>\n      <td>275.07</td>\n      <td>275.26</td>\n    </tr>\n    <tr>\n      <th>RGDP5</th>\n      <td>638.51</td>\n      <td>639.28</td>\n      <td>638.69</td>\n      <td>638.87</td>\n      <td>638.87</td>\n      <td>637.86</td>\n      <td>642.34</td>\n      <td>638.92</td>\n      <td>638.64</td>\n      <td>638.39</td>\n      <td>...</td>\n      <td>360.49</td>\n      <td>360.60</td>\n      <td>360.84</td>\n      <td>361.18</td>\n      <td>363.22</td>\n      <td>361.46</td>\n      <td>361.43</td>\n      <td>361.41</td>\n      <td>361.41</td>\n      <td>361.41</td>\n    </tr>\n    <tr>\n      <th>RGDP6</th>\n      <td>706.56</td>\n      <td>706.74</td>\n      <td>706.77</td>\n      <td>706.98</td>\n      <td>706.63</td>\n      <td>708.63</td>\n      <td>710.67</td>\n      <td>709.41</td>\n      <td>709.38</td>\n      <td>709.34</td>\n      <td>...</td>\n      <td>439.16</td>\n      <td>439.26</td>\n      <td>439.03</td>\n      <td>442.87</td>\n      <td>441.93</td>\n      <td>443.58</td>\n      <td>443.70</td>\n      <td>443.81</td>\n      <td>443.90</td>\n      <td>443.93</td>\n    </tr>\n  </tbody>\n</table>\n<p>5 rows × 24 columns</p>\n</div>"
     },
     "execution_count": 9,
     "metadata": {},
     "output_type": "execute_result"
    }
   ],
   "source": [
    "rgdp_metrics"
   ],
   "metadata": {
    "collapsed": false,
    "pycharm": {
     "name": "#%%\n"
    }
   }
  },
  {
   "cell_type": "code",
   "execution_count": 10,
   "outputs": [
    {
     "data": {
      "text/plain": "                MSE      MAD\nRGDP2  Bayesian_100       OL\nRGDP3       Average  Average\nRGDP4        Normal  Average\nRGDP5        Normal  Average\nRGDP6       Average   Median",
      "text/html": "<div>\n<style scoped>\n    .dataframe tbody tr th:only-of-type {\n        vertical-align: middle;\n    }\n\n    .dataframe tbody tr th {\n        vertical-align: top;\n    }\n\n    .dataframe thead th {\n        text-align: right;\n    }\n</style>\n<table border=\"1\" class=\"dataframe\">\n  <thead>\n    <tr style=\"text-align: right;\">\n      <th></th>\n      <th>MSE</th>\n      <th>MAD</th>\n    </tr>\n  </thead>\n  <tbody>\n    <tr>\n      <th>RGDP2</th>\n      <td>Bayesian_100</td>\n      <td>OL</td>\n    </tr>\n    <tr>\n      <th>RGDP3</th>\n      <td>Average</td>\n      <td>Average</td>\n    </tr>\n    <tr>\n      <th>RGDP4</th>\n      <td>Normal</td>\n      <td>Average</td>\n    </tr>\n    <tr>\n      <th>RGDP5</th>\n      <td>Normal</td>\n      <td>Average</td>\n    </tr>\n    <tr>\n      <th>RGDP6</th>\n      <td>Average</td>\n      <td>Median</td>\n    </tr>\n  </tbody>\n</table>\n</div>"
     },
     "execution_count": 10,
     "metadata": {},
     "output_type": "execute_result"
    }
   ],
   "source": [
    "pd.concat((rgdp_metrics[\"MSE\"].idxmin(axis=1), rgdp_metrics[\"MAD\"].idxmin(axis=1)), axis=1, keys=[\"MSE\", \"MAD\"])"
   ],
   "metadata": {
    "collapsed": false,
    "pycharm": {
     "name": "#%%\n"
    }
   }
  },
  {
   "cell_type": "markdown",
   "source": [
    "## Combining model predictions"
   ],
   "metadata": {
    "collapsed": false,
    "pycharm": {
     "name": "#%% md\n"
    }
   }
  },
  {
   "cell_type": "code",
   "execution_count": 11,
   "outputs": [],
   "source": [
    "data = {var: [models[m_name].predictions[var].dropna().reset_index().assign(ID=m_name) for m_name in models.keys()] for var in variable_names}\n",
    "data = {k: pd.concat(data[k], ignore_index=True, axis=0).sort_values(by=[\"DATE\"]).reset_index(drop=True) for k in data.keys()}"
   ],
   "metadata": {
    "collapsed": false,
    "pycharm": {
     "name": "#%%\n"
    }
   }
  },
  {
   "cell_type": "code",
   "execution_count": 12,
   "outputs": [],
   "source": [
    "models[\"OL_models\"] = OnlineLearning(variable_names, forecast_horizons, data=data, alpha=0.8).fit()\n",
    "metrics[\"OL_models\"] = {metric_names[i]: z for i, z in enumerate(models[\"OL_models\"].calculate_metrics(start, end))}"
   ],
   "metadata": {
    "collapsed": false,
    "pycharm": {
     "name": "#%%\n"
    }
   }
  },
  {
   "cell_type": "code",
   "execution_count": 13,
   "outputs": [],
   "source": [
    "ngdp_metrics, rgdp_metrics = get_metrics_dfs(metrics, models)"
   ],
   "metadata": {
    "collapsed": false,
    "pycharm": {
     "name": "#%%\n"
    }
   }
  },
  {
   "cell_type": "code",
   "execution_count": 14,
   "outputs": [
    {
     "data": {
      "text/plain": "       Average  Median  Geometric  Harmonic  AvgMedian  Normal      OL  \\\nNGDP2    99.74   98.62      99.75     99.77      99.13   98.60   97.15   \nNGDP3   262.85  260.91     263.16    263.47     261.82  260.21  266.61   \nNGDP4   306.70  305.97     307.08    307.47     306.27  307.67  302.96   \nNGDP5   362.33  360.34     362.81    363.31     361.26  359.80  352.51   \nNGDP6   415.07  414.71     415.63    416.21     414.80  412.45  406.77   \n\n       Bayesian_4  Bayesian_10  Bayesian_20  Bayesian_50  Bayesian_100  \\\nNGDP2       97.09        95.89        94.90        93.86         93.37   \nNGDP3      260.53       261.19       261.89       262.85        263.42   \nNGDP4      306.76       306.76       306.76       306.75        306.74   \nNGDP5      360.33       360.13       360.01       359.90        359.86   \nNGDP6      415.34       415.28       415.16       414.99        414.89   \n\n       OL_models  \nNGDP2      99.34  \nNGDP3     262.36  \nNGDP4     306.86  \nNGDP5     362.28  \nNGDP6     415.90  ",
      "text/html": "<div>\n<style scoped>\n    .dataframe tbody tr th:only-of-type {\n        vertical-align: middle;\n    }\n\n    .dataframe tbody tr th {\n        vertical-align: top;\n    }\n\n    .dataframe thead th {\n        text-align: right;\n    }\n</style>\n<table border=\"1\" class=\"dataframe\">\n  <thead>\n    <tr style=\"text-align: right;\">\n      <th></th>\n      <th>Average</th>\n      <th>Median</th>\n      <th>Geometric</th>\n      <th>Harmonic</th>\n      <th>AvgMedian</th>\n      <th>Normal</th>\n      <th>OL</th>\n      <th>Bayesian_4</th>\n      <th>Bayesian_10</th>\n      <th>Bayesian_20</th>\n      <th>Bayesian_50</th>\n      <th>Bayesian_100</th>\n      <th>OL_models</th>\n    </tr>\n  </thead>\n  <tbody>\n    <tr>\n      <th>NGDP2</th>\n      <td>99.74</td>\n      <td>98.62</td>\n      <td>99.75</td>\n      <td>99.77</td>\n      <td>99.13</td>\n      <td>98.60</td>\n      <td>97.15</td>\n      <td>97.09</td>\n      <td>95.89</td>\n      <td>94.90</td>\n      <td>93.86</td>\n      <td>93.37</td>\n      <td>99.34</td>\n    </tr>\n    <tr>\n      <th>NGDP3</th>\n      <td>262.85</td>\n      <td>260.91</td>\n      <td>263.16</td>\n      <td>263.47</td>\n      <td>261.82</td>\n      <td>260.21</td>\n      <td>266.61</td>\n      <td>260.53</td>\n      <td>261.19</td>\n      <td>261.89</td>\n      <td>262.85</td>\n      <td>263.42</td>\n      <td>262.36</td>\n    </tr>\n    <tr>\n      <th>NGDP4</th>\n      <td>306.70</td>\n      <td>305.97</td>\n      <td>307.08</td>\n      <td>307.47</td>\n      <td>306.27</td>\n      <td>307.67</td>\n      <td>302.96</td>\n      <td>306.76</td>\n      <td>306.76</td>\n      <td>306.76</td>\n      <td>306.75</td>\n      <td>306.74</td>\n      <td>306.86</td>\n    </tr>\n    <tr>\n      <th>NGDP5</th>\n      <td>362.33</td>\n      <td>360.34</td>\n      <td>362.81</td>\n      <td>363.31</td>\n      <td>361.26</td>\n      <td>359.80</td>\n      <td>352.51</td>\n      <td>360.33</td>\n      <td>360.13</td>\n      <td>360.01</td>\n      <td>359.90</td>\n      <td>359.86</td>\n      <td>362.28</td>\n    </tr>\n    <tr>\n      <th>NGDP6</th>\n      <td>415.07</td>\n      <td>414.71</td>\n      <td>415.63</td>\n      <td>416.21</td>\n      <td>414.80</td>\n      <td>412.45</td>\n      <td>406.77</td>\n      <td>415.34</td>\n      <td>415.28</td>\n      <td>415.16</td>\n      <td>414.99</td>\n      <td>414.89</td>\n      <td>415.90</td>\n    </tr>\n  </tbody>\n</table>\n</div>"
     },
     "execution_count": 14,
     "metadata": {},
     "output_type": "execute_result"
    }
   ],
   "source": [
    "ngdp_metrics[\"MSE\"]"
   ],
   "metadata": {
    "collapsed": false,
    "pycharm": {
     "name": "#%%\n"
    }
   }
  },
  {
   "cell_type": "code",
   "execution_count": 15,
   "outputs": [
    {
     "data": {
      "text/plain": "       Average  Median  Geometric  Harmonic  AvgMedian  Normal      OL  \\\nNGDP2    50.59   50.63      50.59     50.58      50.57   50.24   49.34   \nNGDP3   104.96  104.45     105.08    105.21     104.61  103.66  106.34   \nNGDP4   147.48  148.31     147.58    147.68     147.70  150.40  145.90   \nNGDP5   194.86  195.84     195.00    195.15     195.30  195.26  191.45   \nNGDP6   241.21  243.06     241.38    241.55     242.11  237.14  238.08   \n\n       Bayesian_4  Bayesian_10  Bayesian_20  Bayesian_50  Bayesian_100  \\\nNGDP2       49.98        49.82        49.71        49.59         49.54   \nNGDP3      104.29       104.61       104.87       105.19        105.37   \nNGDP4      149.90       149.98       150.01       150.02        150.01   \nNGDP5      195.71       195.46       195.27       195.10        195.04   \nNGDP6      241.34       241.04       240.68       240.23        239.99   \n\n       OL_models  \nNGDP2      50.56  \nNGDP3     104.88  \nNGDP4     147.68  \nNGDP5     195.25  \nNGDP6     242.34  ",
      "text/html": "<div>\n<style scoped>\n    .dataframe tbody tr th:only-of-type {\n        vertical-align: middle;\n    }\n\n    .dataframe tbody tr th {\n        vertical-align: top;\n    }\n\n    .dataframe thead th {\n        text-align: right;\n    }\n</style>\n<table border=\"1\" class=\"dataframe\">\n  <thead>\n    <tr style=\"text-align: right;\">\n      <th></th>\n      <th>Average</th>\n      <th>Median</th>\n      <th>Geometric</th>\n      <th>Harmonic</th>\n      <th>AvgMedian</th>\n      <th>Normal</th>\n      <th>OL</th>\n      <th>Bayesian_4</th>\n      <th>Bayesian_10</th>\n      <th>Bayesian_20</th>\n      <th>Bayesian_50</th>\n      <th>Bayesian_100</th>\n      <th>OL_models</th>\n    </tr>\n  </thead>\n  <tbody>\n    <tr>\n      <th>NGDP2</th>\n      <td>50.59</td>\n      <td>50.63</td>\n      <td>50.59</td>\n      <td>50.58</td>\n      <td>50.57</td>\n      <td>50.24</td>\n      <td>49.34</td>\n      <td>49.98</td>\n      <td>49.82</td>\n      <td>49.71</td>\n      <td>49.59</td>\n      <td>49.54</td>\n      <td>50.56</td>\n    </tr>\n    <tr>\n      <th>NGDP3</th>\n      <td>104.96</td>\n      <td>104.45</td>\n      <td>105.08</td>\n      <td>105.21</td>\n      <td>104.61</td>\n      <td>103.66</td>\n      <td>106.34</td>\n      <td>104.29</td>\n      <td>104.61</td>\n      <td>104.87</td>\n      <td>105.19</td>\n      <td>105.37</td>\n      <td>104.88</td>\n    </tr>\n    <tr>\n      <th>NGDP4</th>\n      <td>147.48</td>\n      <td>148.31</td>\n      <td>147.58</td>\n      <td>147.68</td>\n      <td>147.70</td>\n      <td>150.40</td>\n      <td>145.90</td>\n      <td>149.90</td>\n      <td>149.98</td>\n      <td>150.01</td>\n      <td>150.02</td>\n      <td>150.01</td>\n      <td>147.68</td>\n    </tr>\n    <tr>\n      <th>NGDP5</th>\n      <td>194.86</td>\n      <td>195.84</td>\n      <td>195.00</td>\n      <td>195.15</td>\n      <td>195.30</td>\n      <td>195.26</td>\n      <td>191.45</td>\n      <td>195.71</td>\n      <td>195.46</td>\n      <td>195.27</td>\n      <td>195.10</td>\n      <td>195.04</td>\n      <td>195.25</td>\n    </tr>\n    <tr>\n      <th>NGDP6</th>\n      <td>241.21</td>\n      <td>243.06</td>\n      <td>241.38</td>\n      <td>241.55</td>\n      <td>242.11</td>\n      <td>237.14</td>\n      <td>238.08</td>\n      <td>241.34</td>\n      <td>241.04</td>\n      <td>240.68</td>\n      <td>240.23</td>\n      <td>239.99</td>\n      <td>242.34</td>\n    </tr>\n  </tbody>\n</table>\n</div>"
     },
     "execution_count": 15,
     "metadata": {},
     "output_type": "execute_result"
    }
   ],
   "source": [
    "ngdp_metrics[\"MAD\"]"
   ],
   "metadata": {
    "collapsed": false,
    "pycharm": {
     "name": "#%%\n"
    }
   }
  },
  {
   "cell_type": "code",
   "execution_count": 16,
   "outputs": [
    {
     "data": {
      "text/plain": "<AxesSubplot: >"
     },
     "execution_count": 16,
     "metadata": {},
     "output_type": "execute_result"
    },
    {
     "data": {
      "text/plain": "<Figure size 640x480 with 1 Axes>",
      "image/png": "[encoded data removed]"
     },
     "metadata": {},
     "output_type": "display_data"
    }
   ],
   "source": [
    "models[\"OL_models\"].weights[\"NGDP\"][0].plot()"
   ],
   "metadata": {
    "collapsed": false,
    "pycharm": {
     "name": "#%%\n"
    }
   }
  },
  {
   "cell_type": "code",
   "execution_count": 17,
   "outputs": [
    {
     "data": {
      "text/plain": "                MSE     MAD\nNGDP2  Bayesian_100      OL\nNGDP3        Normal  Normal\nNGDP4            OL      OL\nNGDP5            OL      OL\nNGDP6            OL  Normal",
      "text/html": "<div>\n<style scoped>\n    .dataframe tbody tr th:only-of-type {\n        vertical-align: middle;\n    }\n\n    .dataframe tbody tr th {\n        vertical-align: top;\n    }\n\n    .dataframe thead th {\n        text-align: right;\n    }\n</style>\n<table border=\"1\" class=\"dataframe\">\n  <thead>\n    <tr style=\"text-align: right;\">\n      <th></th>\n      <th>MSE</th>\n      <th>MAD</th>\n    </tr>\n  </thead>\n  <tbody>\n    <tr>\n      <th>NGDP2</th>\n      <td>Bayesian_100</td>\n      <td>OL</td>\n    </tr>\n    <tr>\n      <th>NGDP3</th>\n      <td>Normal</td>\n      <td>Normal</td>\n    </tr>\n    <tr>\n      <th>NGDP4</th>\n      <td>OL</td>\n      <td>OL</td>\n    </tr>\n    <tr>\n      <th>NGDP5</th>\n      <td>OL</td>\n      <td>OL</td>\n    </tr>\n    <tr>\n      <th>NGDP6</th>\n      <td>OL</td>\n      <td>Normal</td>\n    </tr>\n  </tbody>\n</table>\n</div>"
     },
     "execution_count": 17,
     "metadata": {},
     "output_type": "execute_result"
    }
   ],
   "source": [
    "pd.concat((ngdp_metrics[\"MSE\"].idxmin(axis=1), ngdp_metrics[\"MAD\"].idxmin(axis=1)), axis=1, keys=[\"MSE\", \"MAD\"])"
   ],
   "metadata": {
    "collapsed": false,
    "pycharm": {
     "name": "#%%\n"
    }
   }
  },
  {
   "cell_type": "code",
   "execution_count": 18,
   "outputs": [
    {
     "data": {
      "text/plain": "                MSE      MAD\nRGDP2  Bayesian_100       OL\nRGDP3       Average  Average\nRGDP4        Normal  Average\nRGDP5        Normal  Average\nRGDP6       Average   Median",
      "text/html": "<div>\n<style scoped>\n    .dataframe tbody tr th:only-of-type {\n        vertical-align: middle;\n    }\n\n    .dataframe tbody tr th {\n        vertical-align: top;\n    }\n\n    .dataframe thead th {\n        text-align: right;\n    }\n</style>\n<table border=\"1\" class=\"dataframe\">\n  <thead>\n    <tr style=\"text-align: right;\">\n      <th></th>\n      <th>MSE</th>\n      <th>MAD</th>\n    </tr>\n  </thead>\n  <tbody>\n    <tr>\n      <th>RGDP2</th>\n      <td>Bayesian_100</td>\n      <td>OL</td>\n    </tr>\n    <tr>\n      <th>RGDP3</th>\n      <td>Average</td>\n      <td>Average</td>\n    </tr>\n    <tr>\n      <th>RGDP4</th>\n      <td>Normal</td>\n      <td>Average</td>\n    </tr>\n    <tr>\n      <th>RGDP5</th>\n      <td>Normal</td>\n      <td>Average</td>\n    </tr>\n    <tr>\n      <th>RGDP6</th>\n      <td>Average</td>\n      <td>Median</td>\n    </tr>\n  </tbody>\n</table>\n</div>"
     },
     "execution_count": 18,
     "metadata": {},
     "output_type": "execute_result"
    }
   ],
   "source": [
    "pd.concat((rgdp_metrics[\"MSE\"].idxmin(axis=1), rgdp_metrics[\"MAD\"].idxmin(axis=1)), axis=1, keys=[\"MSE\", \"MAD\"])"
   ],
   "metadata": {
    "collapsed": false,
    "pycharm": {
     "name": "#%%\n"
    }
   }
  },
  {
   "cell_type": "code",
   "execution_count": 7,
   "metadata": {},
   "outputs": [
    {
     "data": {
      "text/html": [
       "<div>\n",
       "<style scoped>\n",
       "    .dataframe tbody tr th:only-of-type {\n",
       "        vertical-align: middle;\n",
       "    }\n",
       "\n",
       "    .dataframe tbody tr th {\n",
       "        vertical-align: top;\n",
       "    }\n",
       "\n",
       "    .dataframe thead tr th {\n",
       "        text-align: left;\n",
       "    }\n",
       "</style>\n",
       "<table border=\"1\" class=\"dataframe\">\n",
       "  <thead>\n",
       "    <tr>\n",
       "      <th></th>\n",
       "      <th colspan=\"10\" halign=\"left\">MSE</th>\n",
       "      <th>...</th>\n",
       "      <th colspan=\"10\" halign=\"left\">MAD</th>\n",
       "    </tr>\n",
       "    <tr>\n",
       "      <th></th>\n",
       "      <th>Average</th>\n",
       "      <th>Median</th>\n",
       "      <th>Geometric</th>\n",
       "      <th>Harmonic</th>\n",
       "      <th>AvgMedian</th>\n",
       "      <th>Normal</th>\n",
       "      <th>OL</th>\n",
       "      <th>Bayesian_4</th>\n",
       "      <th>Bayesian_10</th>\n",
       "      <th>Bayesian_20</th>\n",
       "      <th>...</th>\n",
       "      <th>Geometric</th>\n",
       "      <th>Harmonic</th>\n",
       "      <th>AvgMedian</th>\n",
       "      <th>Normal</th>\n",
       "      <th>OL</th>\n",
       "      <th>Bayesian_4</th>\n",
       "      <th>Bayesian_10</th>\n",
       "      <th>Bayesian_20</th>\n",
       "      <th>Bayesian_50</th>\n",
       "      <th>Bayesian_100</th>\n",
       "    </tr>\n",
       "  </thead>\n",
       "  <tbody>\n",
       "    <tr>\n",
       "      <th>RGDP2</th>\n",
       "      <td>295.38</td>\n",
       "      <td>295.77</td>\n",
       "      <td>295.40</td>\n",
       "      <td>295.41</td>\n",
       "      <td>295.57</td>\n",
       "      <td>295.69</td>\n",
       "      <td>295.87</td>\n",
       "      <td>295.72</td>\n",
       "      <td>295.57</td>\n",
       "      <td>295.44</td>\n",
       "      <td>...</td>\n",
       "      <td>96.12</td>\n",
       "      <td>96.09</td>\n",
       "      <td>96.04</td>\n",
       "      <td>96.85</td>\n",
       "      <td>95.62</td>\n",
       "      <td>96.65</td>\n",
       "      <td>96.49</td>\n",
       "      <td>96.40</td>\n",
       "      <td>96.36</td>\n",
       "      <td>96.34</td>\n",
       "    </tr>\n",
       "    <tr>\n",
       "      <th>RGDP3</th>\n",
       "      <td>458.47</td>\n",
       "      <td>459.56</td>\n",
       "      <td>458.58</td>\n",
       "      <td>458.70</td>\n",
       "      <td>459.01</td>\n",
       "      <td>458.57</td>\n",
       "      <td>458.71</td>\n",
       "      <td>461.06</td>\n",
       "      <td>462.26</td>\n",
       "      <td>462.87</td>\n",
       "      <td>...</td>\n",
       "      <td>193.24</td>\n",
       "      <td>193.29</td>\n",
       "      <td>193.82</td>\n",
       "      <td>193.51</td>\n",
       "      <td>194.04</td>\n",
       "      <td>195.11</td>\n",
       "      <td>195.55</td>\n",
       "      <td>195.72</td>\n",
       "      <td>195.80</td>\n",
       "      <td>195.81</td>\n",
       "    </tr>\n",
       "    <tr>\n",
       "      <th>RGDP4</th>\n",
       "      <td>554.82</td>\n",
       "      <td>555.39</td>\n",
       "      <td>554.96</td>\n",
       "      <td>555.10</td>\n",
       "      <td>555.09</td>\n",
       "      <td>553.26</td>\n",
       "      <td>556.77</td>\n",
       "      <td>553.94</td>\n",
       "      <td>553.93</td>\n",
       "      <td>554.00</td>\n",
       "      <td>...</td>\n",
       "      <td>274.21</td>\n",
       "      <td>274.28</td>\n",
       "      <td>274.86</td>\n",
       "      <td>274.42</td>\n",
       "      <td>275.67</td>\n",
       "      <td>274.23</td>\n",
       "      <td>274.48</td>\n",
       "      <td>274.74</td>\n",
       "      <td>275.07</td>\n",
       "      <td>275.26</td>\n",
       "    </tr>\n",
       "    <tr>\n",
       "      <th>RGDP5</th>\n",
       "      <td>638.51</td>\n",
       "      <td>639.28</td>\n",
       "      <td>638.69</td>\n",
       "      <td>638.87</td>\n",
       "      <td>638.87</td>\n",
       "      <td>637.86</td>\n",
       "      <td>642.34</td>\n",
       "      <td>638.92</td>\n",
       "      <td>638.64</td>\n",
       "      <td>638.39</td>\n",
       "      <td>...</td>\n",
       "      <td>360.49</td>\n",
       "      <td>360.60</td>\n",
       "      <td>360.84</td>\n",
       "      <td>361.18</td>\n",
       "      <td>363.22</td>\n",
       "      <td>361.46</td>\n",
       "      <td>361.43</td>\n",
       "      <td>361.41</td>\n",
       "      <td>361.41</td>\n",
       "      <td>361.41</td>\n",
       "    </tr>\n",
       "    <tr>\n",
       "      <th>RGDP6</th>\n",
       "      <td>706.56</td>\n",
       "      <td>706.74</td>\n",
       "      <td>706.77</td>\n",
       "      <td>706.98</td>\n",
       "      <td>706.63</td>\n",
       "      <td>708.63</td>\n",
       "      <td>710.67</td>\n",
       "      <td>709.41</td>\n",
       "      <td>709.38</td>\n",
       "      <td>709.34</td>\n",
       "      <td>...</td>\n",
       "      <td>439.16</td>\n",
       "      <td>439.26</td>\n",
       "      <td>439.03</td>\n",
       "      <td>442.87</td>\n",
       "      <td>441.93</td>\n",
       "      <td>443.58</td>\n",
       "      <td>443.70</td>\n",
       "      <td>443.81</td>\n",
       "      <td>443.90</td>\n",
       "      <td>443.93</td>\n",
       "    </tr>\n",
       "  </tbody>\n",
       "</table>\n",
       "<p>5 rows × 24 columns</p>\n",
       "</div>"
      ],
      "text/plain": [
       "          MSE                                                                  \\\n",
       "      Average  Median Geometric Harmonic AvgMedian  Normal      OL Bayesian_4   \n",
       "RGDP2  295.38  295.77    295.40   295.41    295.57  295.69  295.87     295.72   \n",
       "RGDP3  458.47  459.56    458.58   458.70    459.01  458.57  458.71     461.06   \n",
       "RGDP4  554.82  555.39    554.96   555.10    555.09  553.26  556.77     553.94   \n",
       "RGDP5  638.51  639.28    638.69   638.87    638.87  637.86  642.34     638.92   \n",
       "RGDP6  706.56  706.74    706.77   706.98    706.63  708.63  710.67     709.41   \n",
       "\n",
       "                               ...       MAD                             \\\n",
       "      Bayesian_10 Bayesian_20  ... Geometric Harmonic AvgMedian  Normal   \n",
       "RGDP2      295.57      295.44  ...     96.12    96.09     96.04   96.85   \n",
       "RGDP3      462.26      462.87  ...    193.24   193.29    193.82  193.51   \n",
       "RGDP4      553.93      554.00  ...    274.21   274.28    274.86  274.42   \n",
       "RGDP5      638.64      638.39  ...    360.49   360.60    360.84  361.18   \n",
       "RGDP6      709.38      709.34  ...    439.16   439.26    439.03  442.87   \n",
       "\n",
       "                                                                           \n",
       "           OL Bayesian_4 Bayesian_10 Bayesian_20 Bayesian_50 Bayesian_100  \n",
       "RGDP2   95.62      96.65       96.49       96.40       96.36        96.34  \n",
       "RGDP3  194.04     195.11      195.55      195.72      195.80       195.81  \n",
       "RGDP4  275.67     274.23      274.48      274.74      275.07       275.26  \n",
       "RGDP5  363.22     361.46      361.43      361.41      361.41       361.41  \n",
       "RGDP6  441.93     443.58      443.70      443.81      443.90       443.93  \n",
       "\n",
       "[5 rows x 24 columns]"
      ]
     },
     "execution_count": 7,
     "metadata": {},
     "output_type": "execute_result"
    }
   ],
   "source": [
    "rgdp_metrics"
   ]
  },
  {
   "cell_type": "code",
   "execution_count": 8,
   "metadata": {},
   "outputs": [
    {
     "data": {
      "text/html": [
       "<div>\n",
       "<style scoped>\n",
       "    .dataframe tbody tr th:only-of-type {\n",
       "        vertical-align: middle;\n",
       "    }\n",
       "\n",
       "    .dataframe tbody tr th {\n",
       "        vertical-align: top;\n",
       "    }\n",
       "\n",
       "    .dataframe thead th {\n",
       "        text-align: right;\n",
       "    }\n",
       "</style>\n",
       "<table border=\"1\" class=\"dataframe\">\n",
       "  <thead>\n",
       "    <tr style=\"text-align: right;\">\n",
       "      <th></th>\n",
       "      <th>MSE</th>\n",
       "      <th>MAD</th>\n",
       "    </tr>\n",
       "  </thead>\n",
       "  <tbody>\n",
       "    <tr>\n",
       "      <th>NGDP2</th>\n",
       "      <td>Bayesian_100</td>\n",
       "      <td>OL</td>\n",
       "    </tr>\n",
       "    <tr>\n",
       "      <th>NGDP3</th>\n",
       "      <td>Normal</td>\n",
       "      <td>Normal</td>\n",
       "    </tr>\n",
       "    <tr>\n",
       "      <th>NGDP4</th>\n",
       "      <td>OL</td>\n",
       "      <td>OL</td>\n",
       "    </tr>\n",
       "    <tr>\n",
       "      <th>NGDP5</th>\n",
       "      <td>OL</td>\n",
       "      <td>OL</td>\n",
       "    </tr>\n",
       "    <tr>\n",
       "      <th>NGDP6</th>\n",
       "      <td>OL</td>\n",
       "      <td>Normal</td>\n",
       "    </tr>\n",
       "  </tbody>\n",
       "</table>\n",
       "</div>"
      ],
      "text/plain": [
       "                MSE     MAD\n",
       "NGDP2  Bayesian_100      OL\n",
       "NGDP3        Normal  Normal\n",
       "NGDP4            OL      OL\n",
       "NGDP5            OL      OL\n",
       "NGDP6            OL  Normal"
      ]
     },
     "execution_count": 8,
     "metadata": {},
     "output_type": "execute_result"
    }
   ],
   "source": [
    "pd.concat((ngdp_metrics[\"MSE\"].idxmin(axis=1), ngdp_metrics[\"MAD\"].idxmin(axis=1)), axis=1, keys=[\"MSE\", \"MAD\"])"
   ]
  },
  {
   "cell_type": "code",
   "execution_count": 9,
   "metadata": {},
   "outputs": [
    {
     "data": {
      "text/html": [
       "<div>\n",
       "<style scoped>\n",
       "    .dataframe tbody tr th:only-of-type {\n",
       "        vertical-align: middle;\n",
       "    }\n",
       "\n",
       "    .dataframe tbody tr th {\n",
       "        vertical-align: top;\n",
       "    }\n",
       "\n",
       "    .dataframe thead tr th {\n",
       "        text-align: left;\n",
       "    }\n",
       "</style>\n",
       "<table border=\"1\" class=\"dataframe\">\n",
       "  <thead>\n",
       "    <tr>\n",
       "      <th></th>\n",
       "      <th colspan=\"10\" halign=\"left\">MSE</th>\n",
       "      <th>...</th>\n",
       "      <th colspan=\"10\" halign=\"left\">MAD</th>\n",
       "    </tr>\n",
       "    <tr>\n",
       "      <th></th>\n",
       "      <th>Average</th>\n",
       "      <th>Median</th>\n",
       "      <th>Geometric</th>\n",
       "      <th>Harmonic</th>\n",
       "      <th>AvgMedian</th>\n",
       "      <th>Normal</th>\n",
       "      <th>OL</th>\n",
       "      <th>Bayesian_4</th>\n",
       "      <th>Bayesian_10</th>\n",
       "      <th>Bayesian_20</th>\n",
       "      <th>...</th>\n",
       "      <th>Geometric</th>\n",
       "      <th>Harmonic</th>\n",
       "      <th>AvgMedian</th>\n",
       "      <th>Normal</th>\n",
       "      <th>OL</th>\n",
       "      <th>Bayesian_4</th>\n",
       "      <th>Bayesian_10</th>\n",
       "      <th>Bayesian_20</th>\n",
       "      <th>Bayesian_50</th>\n",
       "      <th>Bayesian_100</th>\n",
       "    </tr>\n",
       "  </thead>\n",
       "  <tbody>\n",
       "    <tr>\n",
       "      <th>RGDP2</th>\n",
       "      <td>295.38</td>\n",
       "      <td>295.77</td>\n",
       "      <td>295.40</td>\n",
       "      <td>295.41</td>\n",
       "      <td>295.57</td>\n",
       "      <td>295.69</td>\n",
       "      <td>295.87</td>\n",
       "      <td>295.72</td>\n",
       "      <td>295.57</td>\n",
       "      <td>295.44</td>\n",
       "      <td>...</td>\n",
       "      <td>96.12</td>\n",
       "      <td>96.09</td>\n",
       "      <td>96.04</td>\n",
       "      <td>96.85</td>\n",
       "      <td>95.62</td>\n",
       "      <td>96.65</td>\n",
       "      <td>96.49</td>\n",
       "      <td>96.40</td>\n",
       "      <td>96.36</td>\n",
       "      <td>96.34</td>\n",
       "    </tr>\n",
       "    <tr>\n",
       "      <th>RGDP3</th>\n",
       "      <td>458.47</td>\n",
       "      <td>459.56</td>\n",
       "      <td>458.58</td>\n",
       "      <td>458.70</td>\n",
       "      <td>459.01</td>\n",
       "      <td>458.57</td>\n",
       "      <td>458.71</td>\n",
       "      <td>461.06</td>\n",
       "      <td>462.26</td>\n",
       "      <td>462.87</td>\n",
       "      <td>...</td>\n",
       "      <td>193.24</td>\n",
       "      <td>193.29</td>\n",
       "      <td>193.82</td>\n",
       "      <td>193.51</td>\n",
       "      <td>194.04</td>\n",
       "      <td>195.11</td>\n",
       "      <td>195.55</td>\n",
       "      <td>195.72</td>\n",
       "      <td>195.80</td>\n",
       "      <td>195.81</td>\n",
       "    </tr>\n",
       "    <tr>\n",
       "      <th>RGDP4</th>\n",
       "      <td>554.82</td>\n",
       "      <td>555.39</td>\n",
       "      <td>554.96</td>\n",
       "      <td>555.10</td>\n",
       "      <td>555.09</td>\n",
       "      <td>553.26</td>\n",
       "      <td>556.77</td>\n",
       "      <td>553.94</td>\n",
       "      <td>553.93</td>\n",
       "      <td>554.00</td>\n",
       "      <td>...</td>\n",
       "      <td>274.21</td>\n",
       "      <td>274.28</td>\n",
       "      <td>274.86</td>\n",
       "      <td>274.42</td>\n",
       "      <td>275.67</td>\n",
       "      <td>274.23</td>\n",
       "      <td>274.48</td>\n",
       "      <td>274.74</td>\n",
       "      <td>275.07</td>\n",
       "      <td>275.26</td>\n",
       "    </tr>\n",
       "    <tr>\n",
       "      <th>RGDP5</th>\n",
       "      <td>638.51</td>\n",
       "      <td>639.28</td>\n",
       "      <td>638.69</td>\n",
       "      <td>638.87</td>\n",
       "      <td>638.87</td>\n",
       "      <td>637.86</td>\n",
       "      <td>642.34</td>\n",
       "      <td>638.92</td>\n",
       "      <td>638.64</td>\n",
       "      <td>638.39</td>\n",
       "      <td>...</td>\n",
       "      <td>360.49</td>\n",
       "      <td>360.60</td>\n",
       "      <td>360.84</td>\n",
       "      <td>361.18</td>\n",
       "      <td>363.22</td>\n",
       "      <td>361.46</td>\n",
       "      <td>361.43</td>\n",
       "      <td>361.41</td>\n",
       "      <td>361.41</td>\n",
       "      <td>361.41</td>\n",
       "    </tr>\n",
       "    <tr>\n",
       "      <th>RGDP6</th>\n",
       "      <td>706.56</td>\n",
       "      <td>706.74</td>\n",
       "      <td>706.77</td>\n",
       "      <td>706.98</td>\n",
       "      <td>706.63</td>\n",
       "      <td>708.63</td>\n",
       "      <td>710.67</td>\n",
       "      <td>709.41</td>\n",
       "      <td>709.38</td>\n",
       "      <td>709.34</td>\n",
       "      <td>...</td>\n",
       "      <td>439.16</td>\n",
       "      <td>439.26</td>\n",
       "      <td>439.03</td>\n",
       "      <td>442.87</td>\n",
       "      <td>441.93</td>\n",
       "      <td>443.58</td>\n",
       "      <td>443.70</td>\n",
       "      <td>443.81</td>\n",
       "      <td>443.90</td>\n",
       "      <td>443.93</td>\n",
       "    </tr>\n",
       "  </tbody>\n",
       "</table>\n",
       "<p>5 rows × 24 columns</p>\n",
       "</div>"
      ],
      "text/plain": [
       "          MSE                                                                  \\\n",
       "      Average  Median Geometric Harmonic AvgMedian  Normal      OL Bayesian_4   \n",
       "RGDP2  295.38  295.77    295.40   295.41    295.57  295.69  295.87     295.72   \n",
       "RGDP3  458.47  459.56    458.58   458.70    459.01  458.57  458.71     461.06   \n",
       "RGDP4  554.82  555.39    554.96   555.10    555.09  553.26  556.77     553.94   \n",
       "RGDP5  638.51  639.28    638.69   638.87    638.87  637.86  642.34     638.92   \n",
       "RGDP6  706.56  706.74    706.77   706.98    706.63  708.63  710.67     709.41   \n",
       "\n",
       "                               ...       MAD                             \\\n",
       "      Bayesian_10 Bayesian_20  ... Geometric Harmonic AvgMedian  Normal   \n",
       "RGDP2      295.57      295.44  ...     96.12    96.09     96.04   96.85   \n",
       "RGDP3      462.26      462.87  ...    193.24   193.29    193.82  193.51   \n",
       "RGDP4      553.93      554.00  ...    274.21   274.28    274.86  274.42   \n",
       "RGDP5      638.64      638.39  ...    360.49   360.60    360.84  361.18   \n",
       "RGDP6      709.38      709.34  ...    439.16   439.26    439.03  442.87   \n",
       "\n",
       "                                                                           \n",
       "           OL Bayesian_4 Bayesian_10 Bayesian_20 Bayesian_50 Bayesian_100  \n",
       "RGDP2   95.62      96.65       96.49       96.40       96.36        96.34  \n",
       "RGDP3  194.04     195.11      195.55      195.72      195.80       195.81  \n",
       "RGDP4  275.67     274.23      274.48      274.74      275.07       275.26  \n",
       "RGDP5  363.22     361.46      361.43      361.41      361.41       361.41  \n",
       "RGDP6  441.93     443.58      443.70      443.81      443.90       443.93  \n",
       "\n",
       "[5 rows x 24 columns]"
      ]
     },
     "execution_count": 9,
     "metadata": {},
     "output_type": "execute_result"
    }
   ],
   "source": [
    "rgdp_metrics"
   ]
  },
  {
   "cell_type": "code",
   "execution_count": 10,
   "metadata": {},
   "outputs": [
    {
     "data": {
      "text/html": [
       "<div>\n",
       "<style scoped>\n",
       "    .dataframe tbody tr th:only-of-type {\n",
       "        vertical-align: middle;\n",
       "    }\n",
       "\n",
       "    .dataframe tbody tr th {\n",
       "        vertical-align: top;\n",
       "    }\n",
       "\n",
       "    .dataframe thead th {\n",
       "        text-align: right;\n",
       "    }\n",
       "</style>\n",
       "<table border=\"1\" class=\"dataframe\">\n",
       "  <thead>\n",
       "    <tr style=\"text-align: right;\">\n",
       "      <th></th>\n",
       "      <th>MSE</th>\n",
       "      <th>MAD</th>\n",
       "    </tr>\n",
       "  </thead>\n",
       "  <tbody>\n",
       "    <tr>\n",
       "      <th>RGDP2</th>\n",
       "      <td>Bayesian_100</td>\n",
       "      <td>OL</td>\n",
       "    </tr>\n",
       "    <tr>\n",
       "      <th>RGDP3</th>\n",
       "      <td>Average</td>\n",
       "      <td>Average</td>\n",
       "    </tr>\n",
       "    <tr>\n",
       "      <th>RGDP4</th>\n",
       "      <td>Normal</td>\n",
       "      <td>Average</td>\n",
       "    </tr>\n",
       "    <tr>\n",
       "      <th>RGDP5</th>\n",
       "      <td>Normal</td>\n",
       "      <td>Average</td>\n",
       "    </tr>\n",
       "    <tr>\n",
       "      <th>RGDP6</th>\n",
       "      <td>Average</td>\n",
       "      <td>Median</td>\n",
       "    </tr>\n",
       "  </tbody>\n",
       "</table>\n",
       "</div>"
      ],
      "text/plain": [
       "                MSE      MAD\n",
       "RGDP2  Bayesian_100       OL\n",
       "RGDP3       Average  Average\n",
       "RGDP4        Normal  Average\n",
       "RGDP5        Normal  Average\n",
       "RGDP6       Average   Median"
      ]
     },
     "execution_count": 10,
     "metadata": {},
     "output_type": "execute_result"
    }
   ],
   "source": [
    "pd.concat((rgdp_metrics[\"MSE\"].idxmin(axis=1), rgdp_metrics[\"MAD\"].idxmin(axis=1)), axis=1, keys=[\"MSE\", \"MAD\"])"
   ]
  },
  {
   "cell_type": "markdown",
   "metadata": {},
   "source": [
    "## Combining model predictions"
   ]
  },
  {
   "cell_type": "code",
   "execution_count": 11,
   "metadata": {},
   "outputs": [],
   "source": [
    "data = {var: [models[m_name].predictions[var].dropna().reset_index().assign(ID=m_name) for m_name in models.keys()] for var in variable_names}\n",
    "data = {k: pd.concat(data[k], ignore_index=True, axis=0).sort_values(by=[\"DATE\"]).reset_index(drop=True) for k in data.keys()}"
   ]
  },
  {
   "cell_type": "code",
   "execution_count": 12,
   "metadata": {},
   "outputs": [],
   "source": [
    "models[\"OL_models\"] = OnlineLearning(variable_names, forecast_horizons, data=data, alpha=0.8).fit()\n",
    "metrics[\"OL_models\"] = {metric_names[i]: z for i, z in enumerate(models[\"OL_models\"].calculate_metrics(start, end))}"
   ]
  },
  {
   "cell_type": "code",
   "execution_count": 13,
   "metadata": {},
   "outputs": [],
   "source": [
    "ngdp_metrics, rgdp_metrics = get_metrics_dfs(metrics, models)"
   ]
  },
  {
   "cell_type": "code",
   "execution_count": 14,
   "metadata": {},
   "outputs": [
    {
     "data": {
      "text/html": [
       "<div>\n",
       "<style scoped>\n",
       "    .dataframe tbody tr th:only-of-type {\n",
       "        vertical-align: middle;\n",
       "    }\n",
       "\n",
       "    .dataframe tbody tr th {\n",
       "        vertical-align: top;\n",
       "    }\n",
       "\n",
       "    .dataframe thead th {\n",
       "        text-align: right;\n",
       "    }\n",
       "</style>\n",
       "<table border=\"1\" class=\"dataframe\">\n",
       "  <thead>\n",
       "    <tr style=\"text-align: right;\">\n",
       "      <th></th>\n",
       "      <th>Average</th>\n",
       "      <th>Median</th>\n",
       "      <th>Geometric</th>\n",
       "      <th>Harmonic</th>\n",
       "      <th>AvgMedian</th>\n",
       "      <th>Normal</th>\n",
       "      <th>OL</th>\n",
       "      <th>Bayesian_4</th>\n",
       "      <th>Bayesian_10</th>\n",
       "      <th>Bayesian_20</th>\n",
       "      <th>Bayesian_50</th>\n",
       "      <th>Bayesian_100</th>\n",
       "      <th>OL_models</th>\n",
       "    </tr>\n",
       "  </thead>\n",
       "  <tbody>\n",
       "    <tr>\n",
       "      <th>NGDP2</th>\n",
       "      <td>99.74</td>\n",
       "      <td>98.62</td>\n",
       "      <td>99.75</td>\n",
       "      <td>99.77</td>\n",
       "      <td>99.13</td>\n",
       "      <td>98.60</td>\n",
       "      <td>97.15</td>\n",
       "      <td>97.09</td>\n",
       "      <td>95.89</td>\n",
       "      <td>94.90</td>\n",
       "      <td>93.86</td>\n",
       "      <td>93.37</td>\n",
       "      <td>99.34</td>\n",
       "    </tr>\n",
       "    <tr>\n",
       "      <th>NGDP3</th>\n",
       "      <td>262.85</td>\n",
       "      <td>260.91</td>\n",
       "      <td>263.16</td>\n",
       "      <td>263.47</td>\n",
       "      <td>261.82</td>\n",
       "      <td>260.21</td>\n",
       "      <td>266.61</td>\n",
       "      <td>260.53</td>\n",
       "      <td>261.19</td>\n",
       "      <td>261.89</td>\n",
       "      <td>262.85</td>\n",
       "      <td>263.42</td>\n",
       "      <td>262.36</td>\n",
       "    </tr>\n",
       "    <tr>\n",
       "      <th>NGDP4</th>\n",
       "      <td>306.70</td>\n",
       "      <td>305.97</td>\n",
       "      <td>307.08</td>\n",
       "      <td>307.47</td>\n",
       "      <td>306.27</td>\n",
       "      <td>307.67</td>\n",
       "      <td>302.96</td>\n",
       "      <td>306.76</td>\n",
       "      <td>306.76</td>\n",
       "      <td>306.76</td>\n",
       "      <td>306.75</td>\n",
       "      <td>306.74</td>\n",
       "      <td>306.86</td>\n",
       "    </tr>\n",
       "    <tr>\n",
       "      <th>NGDP5</th>\n",
       "      <td>362.33</td>\n",
       "      <td>360.34</td>\n",
       "      <td>362.81</td>\n",
       "      <td>363.31</td>\n",
       "      <td>361.26</td>\n",
       "      <td>359.80</td>\n",
       "      <td>352.51</td>\n",
       "      <td>360.33</td>\n",
       "      <td>360.13</td>\n",
       "      <td>360.01</td>\n",
       "      <td>359.90</td>\n",
       "      <td>359.86</td>\n",
       "      <td>362.28</td>\n",
       "    </tr>\n",
       "    <tr>\n",
       "      <th>NGDP6</th>\n",
       "      <td>415.07</td>\n",
       "      <td>414.71</td>\n",
       "      <td>415.63</td>\n",
       "      <td>416.21</td>\n",
       "      <td>414.80</td>\n",
       "      <td>412.45</td>\n",
       "      <td>406.77</td>\n",
       "      <td>415.34</td>\n",
       "      <td>415.28</td>\n",
       "      <td>415.16</td>\n",
       "      <td>414.99</td>\n",
       "      <td>414.89</td>\n",
       "      <td>415.90</td>\n",
       "    </tr>\n",
       "  </tbody>\n",
       "</table>\n",
       "</div>"
      ],
      "text/plain": [
       "       Average  Median  Geometric  Harmonic  AvgMedian  Normal      OL  \\\n",
       "NGDP2    99.74   98.62      99.75     99.77      99.13   98.60   97.15   \n",
       "NGDP3   262.85  260.91     263.16    263.47     261.82  260.21  266.61   \n",
       "NGDP4   306.70  305.97     307.08    307.47     306.27  307.67  302.96   \n",
       "NGDP5   362.33  360.34     362.81    363.31     361.26  359.80  352.51   \n",
       "NGDP6   415.07  414.71     415.63    416.21     414.80  412.45  406.77   \n",
       "\n",
       "       Bayesian_4  Bayesian_10  Bayesian_20  Bayesian_50  Bayesian_100  \\\n",
       "NGDP2       97.09        95.89        94.90        93.86         93.37   \n",
       "NGDP3      260.53       261.19       261.89       262.85        263.42   \n",
       "NGDP4      306.76       306.76       306.76       306.75        306.74   \n",
       "NGDP5      360.33       360.13       360.01       359.90        359.86   \n",
       "NGDP6      415.34       415.28       415.16       414.99        414.89   \n",
       "\n",
       "       OL_models  \n",
       "NGDP2      99.34  \n",
       "NGDP3     262.36  \n",
       "NGDP4     306.86  \n",
       "NGDP5     362.28  \n",
       "NGDP6     415.90  "
      ]
     },
     "execution_count": 14,
     "metadata": {},
     "output_type": "execute_result"
    }
   ],
   "source": [
    "ngdp_metrics[\"MSE\"]"
   ]
  },
  {
   "cell_type": "code",
   "execution_count": 18,
   "metadata": {},
   "outputs": [
    {
     "data": {
      "text/html": [
       "<div>\n",
       "<style scoped>\n",
       "    .dataframe tbody tr th:only-of-type {\n",
       "        vertical-align: middle;\n",
       "    }\n",
       "\n",
       "    .dataframe tbody tr th {\n",
       "        vertical-align: top;\n",
       "    }\n",
       "\n",
       "    .dataframe thead th {\n",
       "        text-align: right;\n",
       "    }\n",
       "</style>\n",
       "<table border=\"1\" class=\"dataframe\">\n",
       "  <thead>\n",
       "    <tr style=\"text-align: right;\">\n",
       "      <th></th>\n",
       "      <th>Average</th>\n",
       "      <th>Median</th>\n",
       "      <th>Geometric</th>\n",
       "      <th>Harmonic</th>\n",
       "      <th>AvgMedian</th>\n",
       "      <th>Normal</th>\n",
       "      <th>OL</th>\n",
       "      <th>Bayesian_4</th>\n",
       "      <th>Bayesian_10</th>\n",
       "      <th>Bayesian_20</th>\n",
       "      <th>Bayesian_50</th>\n",
       "      <th>Bayesian_100</th>\n",
       "      <th>OL_models</th>\n",
       "    </tr>\n",
       "  </thead>\n",
       "  <tbody>\n",
       "    <tr>\n",
       "      <th>NGDP2</th>\n",
       "      <td>50.59</td>\n",
       "      <td>50.63</td>\n",
       "      <td>50.59</td>\n",
       "      <td>50.58</td>\n",
       "      <td>50.57</td>\n",
       "      <td>50.24</td>\n",
       "      <td>49.34</td>\n",
       "      <td>49.98</td>\n",
       "      <td>49.82</td>\n",
       "      <td>49.71</td>\n",
       "      <td>49.59</td>\n",
       "      <td>49.54</td>\n",
       "      <td>50.56</td>\n",
       "    </tr>\n",
       "    <tr>\n",
       "      <th>NGDP3</th>\n",
       "      <td>104.96</td>\n",
       "      <td>104.45</td>\n",
       "      <td>105.08</td>\n",
       "      <td>105.21</td>\n",
       "      <td>104.61</td>\n",
       "      <td>103.66</td>\n",
       "      <td>106.34</td>\n",
       "      <td>104.29</td>\n",
       "      <td>104.61</td>\n",
       "      <td>104.87</td>\n",
       "      <td>105.19</td>\n",
       "      <td>105.37</td>\n",
       "      <td>104.88</td>\n",
       "    </tr>\n",
       "    <tr>\n",
       "      <th>NGDP4</th>\n",
       "      <td>147.48</td>\n",
       "      <td>148.31</td>\n",
       "      <td>147.58</td>\n",
       "      <td>147.68</td>\n",
       "      <td>147.70</td>\n",
       "      <td>150.40</td>\n",
       "      <td>145.90</td>\n",
       "      <td>149.90</td>\n",
       "      <td>149.98</td>\n",
       "      <td>150.01</td>\n",
       "      <td>150.02</td>\n",
       "      <td>150.01</td>\n",
       "      <td>147.68</td>\n",
       "    </tr>\n",
       "    <tr>\n",
       "      <th>NGDP5</th>\n",
       "      <td>194.86</td>\n",
       "      <td>195.84</td>\n",
       "      <td>195.00</td>\n",
       "      <td>195.15</td>\n",
       "      <td>195.30</td>\n",
       "      <td>195.26</td>\n",
       "      <td>191.45</td>\n",
       "      <td>195.71</td>\n",
       "      <td>195.46</td>\n",
       "      <td>195.27</td>\n",
       "      <td>195.10</td>\n",
       "      <td>195.04</td>\n",
       "      <td>195.25</td>\n",
       "    </tr>\n",
       "    <tr>\n",
       "      <th>NGDP6</th>\n",
       "      <td>241.21</td>\n",
       "      <td>243.06</td>\n",
       "      <td>241.38</td>\n",
       "      <td>241.55</td>\n",
       "      <td>242.11</td>\n",
       "      <td>237.14</td>\n",
       "      <td>238.08</td>\n",
       "      <td>241.34</td>\n",
       "      <td>241.04</td>\n",
       "      <td>240.68</td>\n",
       "      <td>240.23</td>\n",
       "      <td>239.99</td>\n",
       "      <td>242.34</td>\n",
       "    </tr>\n",
       "  </tbody>\n",
       "</table>\n",
       "</div>"
      ],
      "text/plain": [
       "       Average  Median  Geometric  Harmonic  AvgMedian  Normal      OL  \\\n",
       "NGDP2    50.59   50.63      50.59     50.58      50.57   50.24   49.34   \n",
       "NGDP3   104.96  104.45     105.08    105.21     104.61  103.66  106.34   \n",
       "NGDP4   147.48  148.31     147.58    147.68     147.70  150.40  145.90   \n",
       "NGDP5   194.86  195.84     195.00    195.15     195.30  195.26  191.45   \n",
       "NGDP6   241.21  243.06     241.38    241.55     242.11  237.14  238.08   \n",
       "\n",
       "       Bayesian_4  Bayesian_10  Bayesian_20  Bayesian_50  Bayesian_100  \\\n",
       "NGDP2       49.98        49.82        49.71        49.59         49.54   \n",
       "NGDP3      104.29       104.61       104.87       105.19        105.37   \n",
       "NGDP4      149.90       149.98       150.01       150.02        150.01   \n",
       "NGDP5      195.71       195.46       195.27       195.10        195.04   \n",
       "NGDP6      241.34       241.04       240.68       240.23        239.99   \n",
       "\n",
       "       OL_models  \n",
       "NGDP2      50.56  \n",
       "NGDP3     104.88  \n",
       "NGDP4     147.68  \n",
       "NGDP5     195.25  \n",
       "NGDP6     242.34  "
      ]
     },
     "execution_count": 18,
     "metadata": {},
     "output_type": "execute_result"
    }
   ],
   "source": [
    "ngdp_metrics[\"MAD\"]"
   ]
  },
  {
   "cell_type": "code",
   "execution_count": 15,
   "metadata": {},
   "outputs": [
    {
     "data": {
      "text/plain": [
       "<AxesSubplot: >"
      ]
     },
     "execution_count": 15,
     "metadata": {},
     "output_type": "execute_result"
    },
    {
     "data": {
      "image/png": "[encoded data removed]",
      "text/plain": [
       "<Figure size 640x480 with 1 Axes>"
      ]
     },
     "metadata": {},
     "output_type": "display_data"
    }
   ],
   "source": [
    "models[\"OL_models\"].weights[\"NGDP\"][0].plot()"
   ]
  },
  {
   "cell_type": "code",
   "execution_count": 16,
   "metadata": {},
   "outputs": [
    {
     "data": {
      "text/html": [
       "<div>\n",
       "<style scoped>\n",
       "    .dataframe tbody tr th:only-of-type {\n",
       "        vertical-align: middle;\n",
       "    }\n",
       "\n",
       "    .dataframe tbody tr th {\n",
       "        vertical-align: top;\n",
       "    }\n",
       "\n",
       "    .dataframe thead th {\n",
       "        text-align: right;\n",
       "    }\n",
       "</style>\n",
       "<table border=\"1\" class=\"dataframe\">\n",
       "  <thead>\n",
       "    <tr style=\"text-align: right;\">\n",
       "      <th></th>\n",
       "      <th>MSE</th>\n",
       "      <th>MAD</th>\n",
       "    </tr>\n",
       "  </thead>\n",
       "  <tbody>\n",
       "    <tr>\n",
       "      <th>NGDP2</th>\n",
       "      <td>Bayesian_100</td>\n",
       "      <td>OL</td>\n",
       "    </tr>\n",
       "    <tr>\n",
       "      <th>NGDP3</th>\n",
       "      <td>Normal</td>\n",
       "      <td>Normal</td>\n",
       "    </tr>\n",
       "    <tr>\n",
       "      <th>NGDP4</th>\n",
       "      <td>OL</td>\n",
       "      <td>OL</td>\n",
       "    </tr>\n",
       "    <tr>\n",
       "      <th>NGDP5</th>\n",
       "      <td>OL</td>\n",
       "      <td>OL</td>\n",
       "    </tr>\n",
       "    <tr>\n",
       "      <th>NGDP6</th>\n",
       "      <td>OL</td>\n",
       "      <td>Normal</td>\n",
       "    </tr>\n",
       "  </tbody>\n",
       "</table>\n",
       "</div>"
      ],
      "text/plain": [
       "                MSE     MAD\n",
       "NGDP2  Bayesian_100      OL\n",
       "NGDP3        Normal  Normal\n",
       "NGDP4            OL      OL\n",
       "NGDP5            OL      OL\n",
       "NGDP6            OL  Normal"
      ]
     },
     "execution_count": 16,
     "metadata": {},
     "output_type": "execute_result"
    }
   ],
   "source": [
    "pd.concat((ngdp_metrics[\"MSE\"].idxmin(axis=1), ngdp_metrics[\"MAD\"].idxmin(axis=1)), axis=1, keys=[\"MSE\", \"MAD\"])"
   ]
  },
  {
   "cell_type": "code",
   "execution_count": 17,
   "metadata": {},
   "outputs": [
    {
     "data": {
      "text/html": [
       "<div>\n",
       "<style scoped>\n",
       "    .dataframe tbody tr th:only-of-type {\n",
       "        vertical-align: middle;\n",
       "    }\n",
       "\n",
       "    .dataframe tbody tr th {\n",
       "        vertical-align: top;\n",
       "    }\n",
       "\n",
       "    .dataframe thead th {\n",
       "        text-align: right;\n",
       "    }\n",
       "</style>\n",
       "<table border=\"1\" class=\"dataframe\">\n",
       "  <thead>\n",
       "    <tr style=\"text-align: right;\">\n",
       "      <th></th>\n",
       "      <th>MSE</th>\n",
       "      <th>MAD</th>\n",
       "    </tr>\n",
       "  </thead>\n",
       "  <tbody>\n",
       "    <tr>\n",
       "      <th>RGDP2</th>\n",
       "      <td>Bayesian_100</td>\n",
       "      <td>OL</td>\n",
       "    </tr>\n",
       "    <tr>\n",
       "      <th>RGDP3</th>\n",
       "      <td>Average</td>\n",
       "      <td>Average</td>\n",
       "    </tr>\n",
       "    <tr>\n",
       "      <th>RGDP4</th>\n",
       "      <td>Normal</td>\n",
       "      <td>Average</td>\n",
       "    </tr>\n",
       "    <tr>\n",
       "      <th>RGDP5</th>\n",
       "      <td>Normal</td>\n",
       "      <td>Average</td>\n",
       "    </tr>\n",
       "    <tr>\n",
       "      <th>RGDP6</th>\n",
       "      <td>Average</td>\n",
       "      <td>Median</td>\n",
       "    </tr>\n",
       "  </tbody>\n",
       "</table>\n",
       "</div>"
      ],
      "text/plain": [
       "                MSE      MAD\n",
       "RGDP2  Bayesian_100       OL\n",
       "RGDP3       Average  Average\n",
       "RGDP4        Normal  Average\n",
       "RGDP5        Normal  Average\n",
       "RGDP6       Average   Median"
      ]
     },
     "execution_count": 17,
     "metadata": {},
     "output_type": "execute_result"
    }
   ],
   "source": [
    "pd.concat((rgdp_metrics[\"MSE\"].idxmin(axis=1), rgdp_metrics[\"MAD\"].idxmin(axis=1)), axis=1, keys=[\"MSE\", \"MAD\"])"
   ]
  }
 ],
 "metadata": {
  "kernelspec": {
   "display_name": "Python 3 (ipykernel)",
   "language": "python",
   "name": "python3"
  },
  "language_info": {
   "codemirror_mode": {
    "name": "ipython",
    "version": 3
   },
   "file_extension": ".py",
   "mimetype": "text/x-python",
   "name": "python",
   "nbconvert_exporter": "python",
   "pygments_lexer": "ipython3",
   "version": "3.8.13"
  }
 },
 "nbformat": 4,
 "nbformat_minor": 1
}