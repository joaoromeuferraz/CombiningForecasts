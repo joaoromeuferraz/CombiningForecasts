{
 "cells": [
  {
   "cell_type": "code",
   "execution_count": 1,
   "metadata": {
    "pycharm": {
     "is_executing": true,
     "name": "#%%\n"
    }
   },
   "outputs": [],
   "source": [
    "from predictor import AverageForecasts, MedianForecasts\n",
    "import pandas as pd\n",
    "\n",
    "%load_ext autoreload\n",
    "%autoreload 2"
   ]
  },
  {
   "cell_type": "code",
   "execution_count": 5,
   "metadata": {
    "pycharm": {
     "name": "#%%\n"
    }
   },
   "outputs": [],
   "source": [
    "variable_names = [\"NGDP\", \"RGDP\"]\n",
    "forecast_horizons = [0, 1, 2, 3, 4]\n",
    "\n",
    "pred1 = AverageForecasts(variable_names, forecast_horizons).fit()\n",
    "pred2 = MedianForecasts(variable_names, forecast_horizons).fit()"
   ]
  },
  {
   "cell_type": "code",
   "execution_count": 8,
   "metadata": {},
   "outputs": [],
   "source": [
    "mse1 = pred1.calculate_metrics()\n",
    "mse2 = pred2.calculate_metrics()"
   ]
  },
  {
   "cell_type": "code",
   "execution_count": 11,
   "metadata": {},
   "outputs": [
    {
     "data": {
      "text/html": [
       "<div>\n",
       "<style scoped>\n",
       "    .dataframe tbody tr th:only-of-type {\n",
       "        vertical-align: middle;\n",
       "    }\n",
       "\n",
       "    .dataframe tbody tr th {\n",
       "        vertical-align: top;\n",
       "    }\n",
       "\n",
       "    .dataframe thead th {\n",
       "        text-align: right;\n",
       "    }\n",
       "</style>\n",
       "<table border=\"1\" class=\"dataframe\">\n",
       "  <thead>\n",
       "    <tr style=\"text-align: right;\">\n",
       "      <th></th>\n",
       "      <th>Average</th>\n",
       "      <th>Median</th>\n",
       "    </tr>\n",
       "  </thead>\n",
       "  <tbody>\n",
       "    <tr>\n",
       "      <th>NGDP2</th>\n",
       "      <td>402.648980</td>\n",
       "      <td>402.030728</td>\n",
       "    </tr>\n",
       "    <tr>\n",
       "      <th>NGDP3</th>\n",
       "      <td>455.941841</td>\n",
       "      <td>455.113778</td>\n",
       "    </tr>\n",
       "    <tr>\n",
       "      <th>NGDP4</th>\n",
       "      <td>477.212994</td>\n",
       "      <td>476.441524</td>\n",
       "    </tr>\n",
       "    <tr>\n",
       "      <th>NGDP5</th>\n",
       "      <td>507.057732</td>\n",
       "      <td>504.670070</td>\n",
       "    </tr>\n",
       "    <tr>\n",
       "      <th>NGDP6</th>\n",
       "      <td>539.255420</td>\n",
       "      <td>537.291887</td>\n",
       "    </tr>\n",
       "  </tbody>\n",
       "</table>\n",
       "</div>"
      ],
      "text/plain": [
       "          Average      Median\n",
       "NGDP2  402.648980  402.030728\n",
       "NGDP3  455.941841  455.113778\n",
       "NGDP4  477.212994  476.441524\n",
       "NGDP5  507.057732  504.670070\n",
       "NGDP6  539.255420  537.291887"
      ]
     },
     "execution_count": 11,
     "metadata": {},
     "output_type": "execute_result"
    }
   ],
   "source": [
    "pd.concat((mse1[\"NGDP\"], mse2[\"NGDP\"]), axis=1, keys=[\"Average\", \"Median\"])"
   ]
  },
  {
   "cell_type": "code",
   "execution_count": 12,
   "metadata": {},
   "outputs": [
    {
     "data": {
      "text/html": [
       "<div>\n",
       "<style scoped>\n",
       "    .dataframe tbody tr th:only-of-type {\n",
       "        vertical-align: middle;\n",
       "    }\n",
       "\n",
       "    .dataframe tbody tr th {\n",
       "        vertical-align: top;\n",
       "    }\n",
       "\n",
       "    .dataframe thead th {\n",
       "        text-align: right;\n",
       "    }\n",
       "</style>\n",
       "<table border=\"1\" class=\"dataframe\">\n",
       "  <thead>\n",
       "    <tr style=\"text-align: right;\">\n",
       "      <th></th>\n",
       "      <th>Average</th>\n",
       "      <th>Median</th>\n",
       "    </tr>\n",
       "  </thead>\n",
       "  <tbody>\n",
       "    <tr>\n",
       "      <th>RGDP2</th>\n",
       "      <td>4176.887666</td>\n",
       "      <td>4177.098634</td>\n",
       "    </tr>\n",
       "    <tr>\n",
       "      <th>RGDP3</th>\n",
       "      <td>4220.089875</td>\n",
       "      <td>4220.260753</td>\n",
       "    </tr>\n",
       "    <tr>\n",
       "      <th>RGDP4</th>\n",
       "      <td>4259.307518</td>\n",
       "      <td>4259.463319</td>\n",
       "    </tr>\n",
       "    <tr>\n",
       "      <th>RGDP5</th>\n",
       "      <td>4297.816958</td>\n",
       "      <td>4297.674071</td>\n",
       "    </tr>\n",
       "    <tr>\n",
       "      <th>RGDP6</th>\n",
       "      <td>4335.630160</td>\n",
       "      <td>4334.757780</td>\n",
       "    </tr>\n",
       "  </tbody>\n",
       "</table>\n",
       "</div>"
      ],
      "text/plain": [
       "           Average       Median\n",
       "RGDP2  4176.887666  4177.098634\n",
       "RGDP3  4220.089875  4220.260753\n",
       "RGDP4  4259.307518  4259.463319\n",
       "RGDP5  4297.816958  4297.674071\n",
       "RGDP6  4335.630160  4334.757780"
      ]
     },
     "execution_count": 12,
     "metadata": {},
     "output_type": "execute_result"
    }
   ],
   "source": [
    "pd.concat((mse1[\"RGDP\"], mse2[\"RGDP\"]), axis=1, keys=[\"Average\", \"Median\"])"
   ]
  },
  {
   "cell_type": "code",
   "execution_count": null,
   "metadata": {},
   "outputs": [],
   "source": []
  }
 ],
 "metadata": {
  "kernelspec": {
   "display_name": "Python 3 (ipykernel)",
   "language": "python",
   "name": "python3"
  },
  "language_info": {
   "codemirror_mode": {
    "name": "ipython",
    "version": 3
   },
   "file_extension": ".py",
   "mimetype": "text/x-python",
   "name": "python",
   "nbconvert_exporter": "python",
   "pygments_lexer": "ipython3",
   "version": "3.8.13"
  }
 },
 "nbformat": 4,
 "nbformat_minor": 1
}
